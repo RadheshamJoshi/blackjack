{
 "cells": [
  {
   "cell_type": "markdown",
   "metadata": {},
   "source": [
    "Now we are going to make Blackjack Game"
   ]
  },
  {
   "cell_type": "code",
   "execution_count": 1,
   "metadata": {},
   "outputs": [],
   "source": [
    "card_number = [ 'two', 'three', 'four', 'five', 'six', 'seven', 'eight', 'nine', 'jack', 'queen', 'king', 'ace' ] "
   ]
  },
  {
   "cell_type": "code",
   "execution_count": 2,
   "metadata": {},
   "outputs": [],
   "source": [
    "card_type = [ 'Club', 'Spades', 'Heart', 'Diamond' ]"
   ]
  },
  {
   "cell_type": "code",
   "execution_count": 3,
   "metadata": {},
   "outputs": [],
   "source": [
    "card_rank = { 'two':2, 'three':3, 'four':4, 'five':5, 'six':6, 'seven':7, 'eight':8, 'nine':9, 'jack':10, 'queen':10, 'king':10, 'ace':11} "
   ]
  },
  {
   "cell_type": "code",
   "execution_count": 4,
   "metadata": {},
   "outputs": [],
   "source": [
    "#creating deck of cards\n",
    "\n",
    "class Deck():\n",
    "    def __init__(self,card_number,card_type):\n",
    "        self.card_number = card_number\n",
    "        self.card_type = card_type\n",
    "        \n",
    "    def cards_dec(self):\n",
    "        pack = []\n",
    "        \n",
    "        for number in card_type:\n",
    "            for card in card_number:\n",
    "                pack.append(card)\n",
    "        return pack\n",
    "    \n",
    "    def __str__(self):\n",
    "        return f\"{self.card_number} of {self.card_type}\""
   ]
  },
  {
   "cell_type": "code",
   "execution_count": 5,
   "metadata": {},
   "outputs": [],
   "source": [
    "#creating chips and you can manage player's chips from here\n",
    "\n",
    "class Chips(Deck):\n",
    "    def __init__(self, balance = 1000):\n",
    "        self.balance = balance\n",
    "        \n",
    "    def get_chips(self, bet_amount):\n",
    "        self.balance = self.balance + ( 2 * bet_amount )\n",
    "        print(\"\\nyou have now {} chips \\n\".format(self.balance))\n",
    "    \n",
    "    def lose_chip(self, bet_amount):\n",
    "        if bet_amount <= self.balance:\n",
    "            self.balance = self.balance - bet_amount\n",
    "            print(\"\\nyou have now {} chips \\n\".format(self.balance))"
   ]
  },
  {
   "cell_type": "code",
   "execution_count": 6,
   "metadata": {},
   "outputs": [],
   "source": [
    "#Taking any card at random from deck of cards and identifying its rank\n",
    "#for that import random.choice() from random \n",
    "\n",
    "import random\n",
    "def shuffle_pick(pack,card_rank):\n",
    "    picked_card = random.choice(pack)\n",
    "    rank = card_rank[picked_card]\n",
    "    return rank\n"
   ]
  },
  {
   "cell_type": "code",
   "execution_count": 7,
   "metadata": {},
   "outputs": [],
   "source": [
    "#To check if someone won or lose(while dealer is playing )\n",
    "\n",
    "def win_or_lose(dealer1,player1,bet1):\n",
    "    if (sum(dealer1)>sum(player1) and sum(dealer1)<=21) or sum(dealer1)==21 :\n",
    "        print(\"\\n!!!Dealer wins this round!!!\\n\\nBetter luck next time\\n\")\n",
    "        money.lose_chip(bet1)\n",
    "        return 1\n",
    "    elif sum(dealer1)>21:\n",
    "        print(\"\\nDealer Bust!!!\\n\")\n",
    "        money.get_chips(bet1)\n",
    "        return 1\n",
    "    else:\n",
    "        return 0"
   ]
  },
  {
   "cell_type": "code",
   "execution_count": 8,
   "metadata": {},
   "outputs": [],
   "source": [
    "#want to play again\n",
    "def play_again(money_left):\n",
    "    if money_left > 0:\n",
    "        print(f\"You can play the game with {money_left} chips\")\n",
    "        play = input(\"Do want to play another round Y/N : \").lower()\n",
    "        if play == 'y':\n",
    "            print(\"---------------------------------------------------------------\")\n",
    "            print(\"\\nLets start new round\\n\")\n",
    "            return 0\n",
    "        else:\n",
    "            print(\"\\n\")\n",
    "            print(f\"Okay That's alright.You have left the game with {money.balance} chips\")\n",
    "            return 1\n",
    "    else:\n",
    "        print(\"\\nYou cannot play the game with 0 chips\")"
   ]
  },
  {
   "cell_type": "code",
   "execution_count": 9,
   "metadata": {},
   "outputs": [],
   "source": [
    "#to create instance of class\n",
    "game = Deck(card_type,card_number)"
   ]
  },
  {
   "cell_type": "code",
   "execution_count": 10,
   "metadata": {},
   "outputs": [],
   "source": [
    "#we have to run the methods of classes once\n",
    "pack = game.cards_dec() "
   ]
  },
  {
   "cell_type": "markdown",
   "metadata": {},
   "source": [
    "Now here comes the hardest part, to join all the function \n",
    "to make one interactive program"
   ]
  },
  {
   "cell_type": "code",
   "execution_count": 11,
   "metadata": {},
   "outputs": [
    {
     "name": "stdout",
     "output_type": "stream",
     "text": [
      "How much money you want to turn in for chips: 1000\n",
      "Place the bet : 500\n",
      "\n",
      "\n",
      "player's card 1 : 8\n",
      "\n",
      "\tdealer's card 1 : 2\n",
      "\n",
      "\n",
      "player's card 2 : 8\n",
      "\n",
      "Sum of the player's cards till now : 16\n",
      "Do you want hit or stay\n",
      "stay\n",
      "\n",
      "\n",
      "Dealer's Cards:\n",
      "2\n",
      "9\n",
      "\n",
      "Sum of the dealer's cards till now : 11\n",
      "\n",
      "\n",
      "Dealer's Cards:\n",
      "2\n",
      "9\n",
      "8\n",
      "\n",
      "Sum of the dealer's cards till now : 19\n",
      "\n",
      "!!!Dealer wins this round!!!\n",
      "\n",
      "Better luck next time\n",
      "\n",
      "\n",
      "you have now 500 chips \n",
      "\n",
      "You can play the game with 500 chips\n",
      "Do want to play another round Y/N : no\n",
      "\n",
      "\n",
      "Okay That's alright.You have left the game with 500 chips\n"
     ]
    }
   ],
   "source": [
    "from IPython.display import clear_output\n",
    "\n",
    "flag = 0\n",
    "while flag==0:\n",
    "    \n",
    "    #intializations\n",
    "    dealer = []\n",
    "    player = []\n",
    "    player_card_count = 1\n",
    "    dealer_card_count = 1\n",
    "    \n",
    "    var = int(input(\"How much money you want to turn in for chips: \"))\n",
    "    money = Chips(var)\n",
    "\n",
    "    if money.balance == 0:                   #to check if we have money left\n",
    "        print(\" But you don't have money to play blackjack\")\n",
    "        break\n",
    "        \n",
    "    #first place the bet\n",
    "    bet = int(input(\"Place the bet : \"))\n",
    "    print(\"\\n\")\n",
    "    \n",
    "    while bet>money.balance:\n",
    "        bet = int(input(\"You don't have that much money.Place the bet Again\\n\"))\n",
    "            \n",
    "    #Firstly player will be given two cards and they will be face up\n",
    "    #this is the first of the 2 cards of player\n",
    "    your_card = shuffle_pick(pack,card_rank)\n",
    "    print(f\"player's card {player_card_count} : {your_card}\\n\")\n",
    "    player_card_count +=1\n",
    "    player.append(your_card)\n",
    "    \n",
    "    #this is the first of the 2 cards of dealer\n",
    "    your_card = shuffle_pick(pack,card_rank)\n",
    "    print(f\"\\tdealer's card {dealer_card_count} : {your_card}\\n\")\n",
    "    dealer_card_count +=1\n",
    "    dealer.append(your_card)\n",
    "    \n",
    "    #hit or stay\n",
    "    while True:\n",
    "        your_card = shuffle_pick(pack,card_rank)\n",
    "        #value of ace will be taken as 1 or 11 depending on adding which value\n",
    "        #will take sum closer to 21 (but not more than 21)\n",
    "        if sum(player) + your_card >21:   \n",
    "            your_card = 1\n",
    "        print(f\"\\nplayer's card {player_card_count} : {your_card}\\n\")\n",
    "        player_card_count +=1\n",
    "        player.append(your_card)\n",
    "        print(f\"Sum of the player's cards till now : {sum(player)}\")\n",
    "        \n",
    "        #check if player have won alerady\n",
    "        if sum(player) == 21:     \n",
    "            print(\"\\n!!!Player wins this round!!!\\n\")\n",
    "            flag = 1\n",
    "            money.get_chips(bet)\n",
    "            break\n",
    "        \n",
    "        #check if player have busted\n",
    "        if sum(player) > 21:\n",
    "            print(\"\\nplayer Busts!!!\\n\")\n",
    "            flag = 1\n",
    "            money.lose_chip(bet)\n",
    "            break\n",
    "            \n",
    "        ask = input(\"Do you want hit or stay\\n\").lower()\n",
    "        if ask == 'hit'or ask == 'h':\n",
    "            continue\n",
    "        else:\n",
    "            break\n",
    "    \n",
    "    #dealer will have two cards one will be face up and other will be face down\n",
    "    while flag==0:\n",
    "        your_card = shuffle_pick(pack,card_rank)\n",
    "        if sum(dealer) + your_card >21:      \n",
    "            your_card = 1\n",
    "        dealer.append(your_card)\n",
    "        \n",
    "        #for printing dealer's cards\n",
    "        def dealer_cards(list2):\n",
    "            clear_output\n",
    "            print(\"\\n\\nDealer's Cards:\")\n",
    "            for each in dealer:\n",
    "                print(each)\n",
    "        \n",
    "        dealer_cards(dealer)\n",
    "        print(f\"\\nSum of the dealer's cards till now : {sum(dealer)}\")\n",
    "        \n",
    "        #check if dealer busts or wins the round\n",
    "        flag = win_or_lose(dealer,player,bet)\n",
    "        \n",
    "    flag = play_again(money.balance)\n",
    "        \n",
    "    \n",
    "    "
   ]
  },
  {
   "cell_type": "code",
   "execution_count": null,
   "metadata": {},
   "outputs": [],
   "source": []
  }
 ],
 "metadata": {
  "kernelspec": {
   "display_name": "Python 3",
   "language": "python",
   "name": "python3"
  },
  "language_info": {
   "codemirror_mode": {
    "name": "ipython",
    "version": 3
   },
   "file_extension": ".py",
   "mimetype": "text/x-python",
   "name": "python",
   "nbconvert_exporter": "python",
   "pygments_lexer": "ipython3",
   "version": "3.7.4"
  }
 },
 "nbformat": 4,
 "nbformat_minor": 4
}
